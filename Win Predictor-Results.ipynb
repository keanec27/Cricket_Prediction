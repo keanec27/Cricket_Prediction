{
 "cells": [
  {
   "cell_type": "code",
   "execution_count": 1,
   "id": "2800bac7",
   "metadata": {},
   "outputs": [],
   "source": [
    "import pandas as pd"
   ]
  },
  {
   "cell_type": "code",
   "execution_count": 25,
   "id": "56749c90",
   "metadata": {
    "scrolled": false
   },
   "outputs": [
    {
     "data": {
      "text/html": [
       "<div>\n",
       "<style scoped>\n",
       "    .dataframe tbody tr th:only-of-type {\n",
       "        vertical-align: middle;\n",
       "    }\n",
       "\n",
       "    .dataframe tbody tr th {\n",
       "        vertical-align: top;\n",
       "    }\n",
       "\n",
       "    .dataframe thead th {\n",
       "        text-align: right;\n",
       "    }\n",
       "</style>\n",
       "<table border=\"1\" class=\"dataframe\">\n",
       "  <thead>\n",
       "    <tr style=\"text-align: right;\">\n",
       "      <th></th>\n",
       "      <th>match_id</th>\n",
       "      <th>batting_team</th>\n",
       "      <th>bowling_team</th>\n",
       "      <th>city</th>\n",
       "      <th>runs_left</th>\n",
       "      <th>balls_left</th>\n",
       "      <th>wickets_left</th>\n",
       "      <th>first_innings_total</th>\n",
       "      <th>crr</th>\n",
       "      <th>rrr</th>\n",
       "      <th>result</th>\n",
       "    </tr>\n",
       "  </thead>\n",
       "  <tbody>\n",
       "    <tr>\n",
       "      <th>0</th>\n",
       "      <td>1</td>\n",
       "      <td>Pakistan</td>\n",
       "      <td>Australia</td>\n",
       "      <td>Brisbane</td>\n",
       "      <td>268</td>\n",
       "      <td>299</td>\n",
       "      <td>10</td>\n",
       "      <td>268</td>\n",
       "      <td>0.0</td>\n",
       "      <td>5.377926</td>\n",
       "      <td>0</td>\n",
       "    </tr>\n",
       "    <tr>\n",
       "      <th>1</th>\n",
       "      <td>1</td>\n",
       "      <td>Pakistan</td>\n",
       "      <td>Australia</td>\n",
       "      <td>Brisbane</td>\n",
       "      <td>268</td>\n",
       "      <td>298</td>\n",
       "      <td>10</td>\n",
       "      <td>268</td>\n",
       "      <td>0.0</td>\n",
       "      <td>5.395973</td>\n",
       "      <td>0</td>\n",
       "    </tr>\n",
       "    <tr>\n",
       "      <th>2</th>\n",
       "      <td>1</td>\n",
       "      <td>Pakistan</td>\n",
       "      <td>Australia</td>\n",
       "      <td>Brisbane</td>\n",
       "      <td>268</td>\n",
       "      <td>297</td>\n",
       "      <td>10</td>\n",
       "      <td>268</td>\n",
       "      <td>0.0</td>\n",
       "      <td>5.414141</td>\n",
       "      <td>0</td>\n",
       "    </tr>\n",
       "    <tr>\n",
       "      <th>3</th>\n",
       "      <td>1</td>\n",
       "      <td>Pakistan</td>\n",
       "      <td>Australia</td>\n",
       "      <td>Brisbane</td>\n",
       "      <td>267</td>\n",
       "      <td>296</td>\n",
       "      <td>10</td>\n",
       "      <td>268</td>\n",
       "      <td>1.5</td>\n",
       "      <td>5.412162</td>\n",
       "      <td>0</td>\n",
       "    </tr>\n",
       "    <tr>\n",
       "      <th>4</th>\n",
       "      <td>1</td>\n",
       "      <td>Pakistan</td>\n",
       "      <td>Australia</td>\n",
       "      <td>Brisbane</td>\n",
       "      <td>267</td>\n",
       "      <td>295</td>\n",
       "      <td>10</td>\n",
       "      <td>268</td>\n",
       "      <td>1.2</td>\n",
       "      <td>5.430508</td>\n",
       "      <td>0</td>\n",
       "    </tr>\n",
       "  </tbody>\n",
       "</table>\n",
       "</div>"
      ],
      "text/plain": [
       "   match_id batting_team bowling_team      city  runs_left  balls_left  \\\n",
       "0         1     Pakistan    Australia  Brisbane        268         299   \n",
       "1         1     Pakistan    Australia  Brisbane        268         298   \n",
       "2         1     Pakistan    Australia  Brisbane        268         297   \n",
       "3         1     Pakistan    Australia  Brisbane        267         296   \n",
       "4         1     Pakistan    Australia  Brisbane        267         295   \n",
       "\n",
       "   wickets_left  first_innings_total  crr       rrr  result  \n",
       "0            10                  268  0.0  5.377926       0  \n",
       "1            10                  268  0.0  5.395973       0  \n",
       "2            10                  268  0.0  5.414141       0  \n",
       "3            10                  268  1.5  5.412162       0  \n",
       "4            10                  268  1.2  5.430508       0  "
      ]
     },
     "execution_count": 25,
     "metadata": {},
     "output_type": "execute_result"
    }
   ],
   "source": [
    "df1=pd.read_csv('df1.csv')\n",
    "df1.head()"
   ]
  },
  {
   "cell_type": "code",
   "execution_count": 26,
   "id": "67c9de6d",
   "metadata": {},
   "outputs": [],
   "source": [
    "df1=pd.get_dummies(df1,['batting_team','bowling_team','city'])"
   ]
  },
  {
   "cell_type": "code",
   "execution_count": 27,
   "id": "e0172627",
   "metadata": {},
   "outputs": [],
   "source": [
    "df1.replace({True: 1, False: 0}, inplace=True)"
   ]
  },
  {
   "cell_type": "code",
   "execution_count": 28,
   "id": "0d4cff85",
   "metadata": {},
   "outputs": [],
   "source": [
    "X=df1.drop('result',axis=1)\n",
    "y=df1['result']"
   ]
  },
  {
   "cell_type": "code",
   "execution_count": 29,
   "id": "3976b656",
   "metadata": {},
   "outputs": [],
   "source": [
    "import warnings\n",
    "warnings.filterwarnings('ignore')"
   ]
  },
  {
   "cell_type": "code",
   "execution_count": 30,
   "id": "2d1346a5",
   "metadata": {},
   "outputs": [],
   "source": [
    "from sklearn.linear_model import LogisticRegression\n",
    "from sklearn.ensemble import RandomForestClassifier\n",
    "from sklearn.tree import DecisionTreeClassifier\n",
    "from sklearn.model_selection import cross_val_score,StratifiedKFold,RandomizedSearchCV\n",
    "cv = StratifiedKFold(n_splits=10,random_state=1, shuffle = True)"
   ]
  },
  {
   "cell_type": "markdown",
   "id": "d4dc2952",
   "metadata": {},
   "source": [
    "# Logistic Regression"
   ]
  },
  {
   "cell_type": "code",
   "execution_count": 31,
   "id": "354890a0",
   "metadata": {},
   "outputs": [],
   "source": [
    "lr=LogisticRegression(solver='liblinear')"
   ]
  },
  {
   "cell_type": "code",
   "execution_count": 32,
   "id": "cf633347",
   "metadata": {},
   "outputs": [
    {
     "name": "stdout",
     "output_type": "stream",
     "text": [
      "0.8546928625492756\n"
     ]
    }
   ],
   "source": [
    "result = cross_val_score(lr,X,y,cv=cv,scoring='accuracy')\n",
    "print(result.mean())"
   ]
  },
  {
   "cell_type": "markdown",
   "id": "db8e9d4b",
   "metadata": {},
   "source": [
    "# Random Forrest"
   ]
  },
  {
   "cell_type": "code",
   "execution_count": 34,
   "id": "4e139fdb",
   "metadata": {},
   "outputs": [
    {
     "name": "stdout",
     "output_type": "stream",
     "text": [
      "0.999913782144237\n"
     ]
    }
   ],
   "source": [
    "rf=RandomForestClassifier()\n",
    "result = cross_val_score(rf,X,y,cv=cv,scoring='accuracy')\n",
    "print(result.mean())"
   ]
  },
  {
   "cell_type": "markdown",
   "id": "75fb5f2b",
   "metadata": {},
   "source": [
    "# Decision Trees"
   ]
  },
  {
   "cell_type": "code",
   "execution_count": 35,
   "id": "2d853c5d",
   "metadata": {},
   "outputs": [
    {
     "name": "stdout",
     "output_type": "stream",
     "text": [
      "0.999928776615031\n"
     ]
    }
   ],
   "source": [
    "tree=DecisionTreeClassifier()\n",
    "result = cross_val_score(rf,X,y,cv=cv,scoring='accuracy')\n",
    "print(result.mean())"
   ]
  }
 ],
 "metadata": {
  "kernelspec": {
   "display_name": "Python 3 (ipykernel)",
   "language": "python",
   "name": "python3"
  },
  "language_info": {
   "codemirror_mode": {
    "name": "ipython",
    "version": 3
   },
   "file_extension": ".py",
   "mimetype": "text/x-python",
   "name": "python",
   "nbconvert_exporter": "python",
   "pygments_lexer": "ipython3",
   "version": "3.10.9"
  }
 },
 "nbformat": 4,
 "nbformat_minor": 5
}
